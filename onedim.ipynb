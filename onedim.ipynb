{
 "cells": [
  {
   "cell_type": "code",
   "execution_count": null,
   "metadata": {
    "scrolled": false
   },
   "outputs": [],
   "source": [
    "from nutils import mesh, function, solver, export, cli, testing\n",
    "import numpy, treelog\n",
    "from matplotlib import pyplot as plt\n",
    "\n",
    "timescale=0.5\n",
    "newtontol=1e-5\n",
    "endtime=0.5\n",
    "nelems=10\n",
    "\n",
    "domain, geom = mesh.rectilinear([numpy.linspace(0,1,nelems+1)])\n",
    "\n",
    "ns = function.Namespace()\n",
    "ns.p = geom\n",
    "ns.fbasis = domain.basis('std', degree=1)\n",
    "ns.f = 'fbasis_n ?flhs_n'\n",
    "ns.Dbasis = domain.basis('discont', degree=0)\n",
    "ns.D = 'Dbasis_n ?Dlhs_n'\n",
    "\n",
    "#set D as a time independent coefficient D_0\n",
    "Dsqr = domain.integral('( D - ((p_0 - 0.5)^2 + 1))^2 J(p)' @ ns, degree=5)\n",
    "Dlhs0 = solver.optimize('Dlhs', Dsqr)\n",
    "\n",
    "res=domain.integral('-D d(f, p_i) d(fbasis_n, p_i) J(p)' @ ns, degree=5)\n",
    "inertia = domain.integral('fbasis_n f J(p)' @ ns, degree=5)\n",
    "\n",
    "#set initial value of f\n",
    "fsqr=domain.integral('( f - (-(p_0 - 0.5)^2 + 1))^2 J(p)' @ ns, degree=5)\n",
    "flhs0=solver.optimize('flhs',fsqr)\n",
    "\n",
    "timestep = timescale/nelems\n",
    "with treelog.iter.plain('timestep', solver.impliciteuler('flhs', res, inertia, timestep=timestep, arguments=dict(flhs=flhs0, Dlhs=Dlhs0), newtontol=newtontol)) as steps:\n",
    "    for itime, flhs in enumerate(steps):\n",
    "      if itime * timestep >= endtime:\n",
    "        break\n",
    "\n",
    "    \n",
    "bezier = domain.sample('bezier', 32)\n",
    "nanjoin = lambda array, tri: numpy.insert(array.take(tri.flat, 0).astype(float), slice(tri.shape[1], tri.size, tri.shape[1]), numpy.nan, axis=0)\n",
    "sampled_x = nanjoin(bezier.eval(ns.p[0]), bezier.tri)\n",
    "def plot_line(func, **arguments):\n",
    "    plt.plot(sampled_x, nanjoin(bezier.eval(func, **arguments), bezier.tri))\n",
    "    plt.xlabel('p_0')\n",
    "    plt.xticks(numpy.linspace(0, 1, 5))\n",
    "\n",
    "plot_line(ns.D, Dlhs=Dlhs0)"
   ]
  },
  {
   "cell_type": "code",
   "execution_count": null,
   "metadata": {},
   "outputs": [],
   "source": []
  }
 ],
 "metadata": {
  "kernelspec": {
   "display_name": "Python 3",
   "language": "python",
   "name": "python3"
  },
  "language_info": {
   "codemirror_mode": {
    "name": "ipython",
    "version": 3
   },
   "file_extension": ".py",
   "mimetype": "text/x-python",
   "name": "python",
   "nbconvert_exporter": "python",
   "pygments_lexer": "ipython3",
   "version": "3.6.9"
  }
 },
 "nbformat": 4,
 "nbformat_minor": 4
}
